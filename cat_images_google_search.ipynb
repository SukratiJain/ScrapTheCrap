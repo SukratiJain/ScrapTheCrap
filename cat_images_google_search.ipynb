{
  "nbformat": 4,
  "nbformat_minor": 0,
  "metadata": {
    "colab": {
      "name": "cat_images_google_search.ipynb",
      "provenance": [],
      "authorship_tag": "ABX9TyM87CPTKvqCQAzh4i18I/9X",
      "include_colab_link": true
    },
    "kernelspec": {
      "name": "python3",
      "display_name": "Python 3"
    },
    "language_info": {
      "name": "python"
    }
  },
  "cells": [
    {
      "cell_type": "markdown",
      "metadata": {
        "id": "view-in-github",
        "colab_type": "text"
      },
      "source": [
        "<a href=\"https://colab.research.google.com/github/SukratiJain/UnwrapAndScrap/blob/main/cat_images_google_search.ipynb\" target=\"_parent\"><img src=\"https://colab.research.google.com/assets/colab-badge.svg\" alt=\"Open In Colab\"/></a>"
      ]
    },
    {
      "cell_type": "markdown",
      "source": [
        "#### Save all images of cat pics on pc from google image search.\n"
      ],
      "metadata": {
        "id": "inb4Ax9jAG8G"
      }
    },
    {
      "cell_type": "code",
      "execution_count": null,
      "metadata": {
        "id": "6F6qVb6k_-iz"
      },
      "outputs": [],
      "source": [
        "import requests\n",
        "from lxml import html\n",
        "import time\n",
        "from parsel import Selector\n",
        "import os\n",
        "\n",
        "class Cat_Images:\n",
        "\tdef __init__(self):\n",
        "\t\tself.headers={'User-Agent':\"Mozilla/5.0 (Windows NT 6.1; WOW64) AppleWebKit/537.36 (KHTML, like Gecko) Chrome/43.0.2357.134 Safari/537.36\"}\n",
        "\t\tself.params = {\n",
        "\t\t\t\t\t\t\"q\": \"cat\",\n",
        "\t\t\t\t\t\t\"source\": \"lnms\",\n",
        "\t\t\t\t\t\t\"tbm\": \"isch\",\n",
        "\t\t\t\t\t  }\n",
        "\t\tself.url=\"https://www.google.com/search\"\n",
        "\t\tself.count = 0\n",
        "\t\tdirectory = os.getcwd()\t\t### Get current directory\n",
        "\t\tself.path = directory+\"\\Cat Images\"\n",
        "\t\ttry:\n",
        "\t\t    os.mkdir(self.path)\t\t### Create a new folder\n",
        "\t\texcept FileExistsError:\n",
        "\t\t    pass\n",
        "\n",
        "\tdef get_Search_Base_Url(self):\n",
        "\t\tresponse = requests.get(url=self.url, headers=self.headers,params=self.params)\n",
        "\t\ttree = html.fromstring(response.text)\n",
        "\t\timages_url_list = tree.xpath('//*[@class=\"yWs4tf\"]//@src')\n",
        "\t\tfor image_url in images_url_list:\n",
        "\t\t\tself.save_Image_Locally(image_url)\n",
        "\t\t\t\n",
        "\t\tcontent = Selector(text=response.text)\n",
        "\t\tpagination = content.xpath('//*[@class=\"frGj1b\"]//@href').get()\n",
        "\t\tif pagination:\n",
        "\t\t\tpagination_url = \"https://www.google.co.in\"+pagination\n",
        "\t\t\tself.search_Image_Pagination(pagination_url)\n",
        "\t\t\n",
        "\tdef search_Image_Pagination(self, pagination_url):\n",
        "\t\ttime.sleep(1)\n",
        "\t\tprint(\"Images saved:\",self.count)\n",
        "\n",
        "\t\tresponse = requests.get(url=pagination_url, headers=self.headers)\n",
        "\t\ttree = html.fromstring(response.text)\n",
        "\n",
        "\t\timages_url_list = tree.xpath('//*[@class=\"yWs4tf\"]//@src')\n",
        "\t\tfor image_url in images_url_list:\n",
        "\t\t\tself.save_Image_Locally(image_url)\n",
        "\t\n",
        "\t\tpagination = tree.xpath('//*[@class=\"frGj1b\"]//@href')\n",
        "\t\tif pagination:\n",
        "\t\t\tpagination_url = \"https://www.google.co.in\"+pagination[-1]\n",
        "\t\t\tself.search_Image_Pagination(pagination_url)\n",
        "\t\telse:\n",
        "\t\t\tprint(\"Images downloaded at location: %s\" % self.path)\n",
        "\n",
        "\tdef save_Image_Locally(self,image_url):\n",
        "\t\tself.count += 1\n",
        "\t\timg_response = requests.get(image_url)\n",
        "\t\tfile = open(\"Cat Images/image\"+str(self.count)+\".png\",\"wb\")\n",
        "\t\tfile.write(img_response.content)\n",
        "\t\tfile.close()\n",
        "\n",
        "\n",
        "if __name__ == '__main__':\n",
        "\tobj = Cat_Images()\n",
        "\tobj.get_Search_Base_Url()\n",
        "\n",
        "\n"
      ]
    }
  ]
}