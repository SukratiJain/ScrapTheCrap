{
  "nbformat": 4,
  "nbformat_minor": 0,
  "metadata": {
    "colab": {
      "name": "Google_Images_Scraper.ipynb",
      "provenance": [],
      "collapsed_sections": [],
      "authorship_tag": "ABX9TyNMQhPtYE4I0n7EraibipxB",
      "include_colab_link": true
    },
    "kernelspec": {
      "name": "python3",
      "display_name": "Python 3"
    },
    "language_info": {
      "name": "python"
    }
  },
  "cells": [
    {
      "cell_type": "markdown",
      "metadata": {
        "id": "view-in-github",
        "colab_type": "text"
      },
      "source": [
        "<a href=\"https://colab.research.google.com/github/SukratiJain/UnwrapAndScrap/blob/main/Google_Images_Scraper.ipynb\" target=\"_parent\"><img src=\"https://colab.research.google.com/assets/colab-badge.svg\" alt=\"Open In Colab\"/></a>"
      ]
    },
    {
      "cell_type": "markdown",
      "source": [
        "#### Google Search Result Images Scraper and save locally on pc.\n",
        "##### Technologies Used: Python3, Requests"
      ],
      "metadata": {
        "id": "inb4Ax9jAG8G"
      }
    },
    {
      "cell_type": "code",
      "execution_count": null,
      "metadata": {
        "id": "6F6qVb6k_-iz"
      },
      "outputs": [],
      "source": [
        "import requests\n",
        "from lxml import html\n",
        "import time\n",
        "from parsel import Selector\n",
        "import os\n",
        "\n",
        "\n",
        "class Google_Search_Images:\n",
        "\tdef __init__(self):\n",
        "\t\tself.search_keyword = \"cat\"\n",
        "\n",
        "\t\tself.headers={'User-Agent':\"Mozilla/5.0 (Windows NT 6.1; WOW64) AppleWebKit/537.36 (KHTML, like Gecko) Chrome/43.0.2357.134 Safari/537.36\"}\n",
        "\t\tself.params = {\n",
        "\t\t\t\t\t\t\"q\": self.search_keyword,\n",
        "\t\t\t\t\t\t\"source\": \"lnms\",\n",
        "\t\t\t\t\t\t\"tbm\": \"isch\",\n",
        "\t\t\t\t\t  }\n",
        "\t\tself.url = \"https://www.google.co.in\"\n",
        "\t\tself.search_url = \"https://www.google.co.in/search\"\n",
        "\t\tself.count = 0\n",
        "\t\tdirectory = os.getcwd()\t\t### Get current directory\n",
        "\t\tself.path = directory+\"\\\\\"+self.search_keyword\n",
        "\t\ttry:\n",
        "\t\t    os.mkdir(self.path)\t\t### Create a new folder\n",
        "\t\texcept FileExistsError:\n",
        "\t\t    pass\n",
        "\n",
        "\tdef get_Search_Base_Url(self):\n",
        "\t\tresponse = requests.get(url=self.search_url, headers=self.headers,params=self.params)\n",
        "\t\ttree = html.fromstring(response.text)\n",
        "\t\timages_url_list = tree.xpath('//*[@class=\"yWs4tf\"]//@src')\n",
        "\t\tfor image_url in images_url_list:\n",
        "\t\t\tself.save_Image_Locally(image_url)\n",
        "\t\t\t\n",
        "\t\tcontent = Selector(text=response.text)\n",
        "\t\tpagination = content.xpath('//*[@class=\"frGj1b\"]//@href')\n",
        "\t\tif pagination:\n",
        "\t\t\tpagination_url = self.url+pagination[0]\n",
        "\t\t\tself.search_Image_Pagination(pagination_url)\n",
        "\t\t\n",
        "\tdef search_Image_Pagination(self, pagination_url):\n",
        "\t\ttime.sleep(1)\n",
        "\t\tprint(\"Images saved:\",self.count)\n",
        "\n",
        "\t\tresponse = requests.get(url=pagination_url, headers=self.headers)\n",
        "\t\ttree = html.fromstring(response.text)\n",
        "\n",
        "\t\timages_url_list = tree.xpath('//*[@class=\"yWs4tf\"]//@src')\n",
        "\t\tfor image_url in images_url_list:\n",
        "\t\t\tself.save_Image_Locally(image_url)\n",
        "\t\n",
        "\t\tpagination = tree.xpath('//*[@class=\"frGj1b\"]//@href')\n",
        "\t\tif pagination:\n",
        "\t\t\tpagination_url = self.url+pagination[-1]\n",
        "\t\t\tself.search_Image_Pagination(pagination_url)\n",
        "\t\telse:\n",
        "\t\t\tprint(\"Images downloaded at location: %s\" % self.path)\n",
        "\n",
        "\tdef save_Image_Locally(self,image_url):\n",
        "\t\tself.count += 1\n",
        "\t\timg_response = requests.get(image_url)\n",
        "\t\tfile = open(self.search_keyword+\"/image\"+str(self.count)+\".png\",\"wb\")\n",
        "\t\tfile.write(img_response.content)\n",
        "\t\tfile.close()\n",
        "\n",
        "\n",
        "if __name__ == '__main__':\n",
        "\tobj = Google_Search_Images()\n",
        "\tobj.get_Search_Base_Url()"
      ]
    }
  ]
}